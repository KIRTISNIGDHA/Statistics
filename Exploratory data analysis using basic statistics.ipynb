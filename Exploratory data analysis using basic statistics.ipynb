{
 "cells": [
  {
   "cell_type": "markdown",
   "metadata": {},
   "source": [
    "# Exploratory Data Analysis\n",
    "\"Exploratory data analysis can never be the whole story, but nothing else can serve as the foundation stone.\" - Jhon Tukey"
   ]
  },
  {
   "cell_type": "code",
   "execution_count": 1,
   "metadata": {},
   "outputs": [],
   "source": [
    "import pandas as pd\n",
    "import numpy as np\n",
    "import matplotlib.pyplot as plt\n",
    "import seaborn as sns"
   ]
  },
  {
   "cell_type": "code",
   "execution_count": 2,
   "metadata": {},
   "outputs": [],
   "source": [
    "sns.set() # set the default style for the graphs "
   ]
  },
  {
   "cell_type": "markdown",
   "metadata": {},
   "source": [
    "### Graphical EDA <br>\n",
    "\n",
    "<span style =\"color:red\"> Graphical reprsentation of the tabular data </span>\n",
    "\n",
    "1. Histogram\n",
    "2. Bee swarm Plot\n",
    "3. Box plot\n",
    "4. Scatter plot"
   ]
  },
  {
   "cell_type": "code",
   "execution_count": 3,
   "metadata": {},
   "outputs": [
    {
     "data": {
      "text/html": [
       "<div>\n",
       "<style scoped>\n",
       "    .dataframe tbody tr th:only-of-type {\n",
       "        vertical-align: middle;\n",
       "    }\n",
       "\n",
       "    .dataframe tbody tr th {\n",
       "        vertical-align: top;\n",
       "    }\n",
       "\n",
       "    .dataframe thead th {\n",
       "        text-align: right;\n",
       "    }\n",
       "</style>\n",
       "<table border=\"1\" class=\"dataframe\">\n",
       "  <thead>\n",
       "    <tr style=\"text-align: right;\">\n",
       "      <th></th>\n",
       "      <th>sepal_length</th>\n",
       "      <th>sepal_width</th>\n",
       "      <th>petal_length</th>\n",
       "      <th>petal_width</th>\n",
       "      <th>species</th>\n",
       "    </tr>\n",
       "  </thead>\n",
       "  <tbody>\n",
       "    <tr>\n",
       "      <td>0</td>\n",
       "      <td>5.1</td>\n",
       "      <td>3.5</td>\n",
       "      <td>1.4</td>\n",
       "      <td>0.2</td>\n",
       "      <td>setosa</td>\n",
       "    </tr>\n",
       "    <tr>\n",
       "      <td>1</td>\n",
       "      <td>4.9</td>\n",
       "      <td>3.0</td>\n",
       "      <td>1.4</td>\n",
       "      <td>0.2</td>\n",
       "      <td>setosa</td>\n",
       "    </tr>\n",
       "    <tr>\n",
       "      <td>2</td>\n",
       "      <td>4.7</td>\n",
       "      <td>3.2</td>\n",
       "      <td>1.3</td>\n",
       "      <td>0.2</td>\n",
       "      <td>setosa</td>\n",
       "    </tr>\n",
       "    <tr>\n",
       "      <td>3</td>\n",
       "      <td>4.6</td>\n",
       "      <td>3.1</td>\n",
       "      <td>1.5</td>\n",
       "      <td>0.2</td>\n",
       "      <td>setosa</td>\n",
       "    </tr>\n",
       "    <tr>\n",
       "      <td>4</td>\n",
       "      <td>5.0</td>\n",
       "      <td>3.6</td>\n",
       "      <td>1.4</td>\n",
       "      <td>0.2</td>\n",
       "      <td>setosa</td>\n",
       "    </tr>\n",
       "  </tbody>\n",
       "</table>\n",
       "</div>"
      ],
      "text/plain": [
       "   sepal_length  sepal_width  petal_length  petal_width species\n",
       "0           5.1          3.5           1.4          0.2  setosa\n",
       "1           4.9          3.0           1.4          0.2  setosa\n",
       "2           4.7          3.2           1.3          0.2  setosa\n",
       "3           4.6          3.1           1.5          0.2  setosa\n",
       "4           5.0          3.6           1.4          0.2  setosa"
      ]
     },
     "execution_count": 3,
     "metadata": {},
     "output_type": "execute_result"
    }
   ],
   "source": [
    "# load the iris dtaaset from seaborn library\n",
    "iris = sns.load_dataset(\"iris\")\n",
    "iris.head()"
   ]
  },
  {
   "cell_type": "code",
   "execution_count": 4,
   "metadata": {},
   "outputs": [
    {
     "data": {
      "text/plain": [
       "pandas.core.frame.DataFrame"
      ]
     },
     "execution_count": 4,
     "metadata": {},
     "output_type": "execute_result"
    }
   ],
   "source": [
    "type(iris)"
   ]
  },
  {
   "cell_type": "code",
   "execution_count": 5,
   "metadata": {},
   "outputs": [
    {
     "data": {
      "text/plain": [
       "array(['setosa', 'versicolor', 'virginica'], dtype=object)"
      ]
     },
     "execution_count": 5,
     "metadata": {},
     "output_type": "execute_result"
    }
   ],
   "source": [
    "# The iris dataset has three different species\n",
    "iris['species'].unique()"
   ]
  },
  {
   "cell_type": "code",
   "execution_count": 6,
   "metadata": {},
   "outputs": [
    {
     "data": {
      "text/html": [
       "<div>\n",
       "<style scoped>\n",
       "    .dataframe tbody tr th:only-of-type {\n",
       "        vertical-align: middle;\n",
       "    }\n",
       "\n",
       "    .dataframe tbody tr th {\n",
       "        vertical-align: top;\n",
       "    }\n",
       "\n",
       "    .dataframe thead th {\n",
       "        text-align: right;\n",
       "    }\n",
       "</style>\n",
       "<table border=\"1\" class=\"dataframe\">\n",
       "  <thead>\n",
       "    <tr style=\"text-align: right;\">\n",
       "      <th></th>\n",
       "      <th>sepal_length</th>\n",
       "      <th>sepal_width</th>\n",
       "      <th>petal_length</th>\n",
       "      <th>petal_width</th>\n",
       "      <th>species</th>\n",
       "    </tr>\n",
       "  </thead>\n",
       "  <tbody>\n",
       "    <tr>\n",
       "      <td>50</td>\n",
       "      <td>7.0</td>\n",
       "      <td>3.2</td>\n",
       "      <td>4.7</td>\n",
       "      <td>1.4</td>\n",
       "      <td>versicolor</td>\n",
       "    </tr>\n",
       "    <tr>\n",
       "      <td>51</td>\n",
       "      <td>6.4</td>\n",
       "      <td>3.2</td>\n",
       "      <td>4.5</td>\n",
       "      <td>1.5</td>\n",
       "      <td>versicolor</td>\n",
       "    </tr>\n",
       "    <tr>\n",
       "      <td>52</td>\n",
       "      <td>6.9</td>\n",
       "      <td>3.1</td>\n",
       "      <td>4.9</td>\n",
       "      <td>1.5</td>\n",
       "      <td>versicolor</td>\n",
       "    </tr>\n",
       "    <tr>\n",
       "      <td>53</td>\n",
       "      <td>5.5</td>\n",
       "      <td>2.3</td>\n",
       "      <td>4.0</td>\n",
       "      <td>1.3</td>\n",
       "      <td>versicolor</td>\n",
       "    </tr>\n",
       "    <tr>\n",
       "      <td>54</td>\n",
       "      <td>6.5</td>\n",
       "      <td>2.8</td>\n",
       "      <td>4.6</td>\n",
       "      <td>1.5</td>\n",
       "      <td>versicolor</td>\n",
       "    </tr>\n",
       "  </tbody>\n",
       "</table>\n",
       "</div>"
      ],
      "text/plain": [
       "    sepal_length  sepal_width  petal_length  petal_width     species\n",
       "50           7.0          3.2           4.7          1.4  versicolor\n",
       "51           6.4          3.2           4.5          1.5  versicolor\n",
       "52           6.9          3.1           4.9          1.5  versicolor\n",
       "53           5.5          2.3           4.0          1.3  versicolor\n",
       "54           6.5          2.8           4.6          1.5  versicolor"
      ]
     },
     "execution_count": 6,
     "metadata": {},
     "output_type": "execute_result"
    }
   ],
   "source": [
    "# Let's only evaluate the Versicolor species \n",
    "versicolor = iris[iris['species']=='versicolor'] # store the versicolor data in a seprate dataframe\n",
    "versicolor.head()"
   ]
  },
  {
   "cell_type": "code",
   "execution_count": 7,
   "metadata": {},
   "outputs": [
    {
     "data": {
      "image/png": "[encoded data removed]",
      "text/plain": [
       "<Figure size 432x288 with 1 Axes>"
      ]
     },
     "metadata": {},
     "output_type": "display_data"
    }
   ],
   "source": [
    "# Plotting a histogram\n",
    "_ = plt.hist( x = 'petal_length', data = versicolor  ) # _ for dummy variable to stop from showing the different arrays created by hist function\n",
    "_ = plt.xlabel(\"Petal length (cm) \") # always label the axes \n",
    "_ = plt.ylabel(\"Count\")"
   ]
  },
  {
   "cell_type": "markdown",
   "metadata": {},
   "source": [
    "<span style =\"color:red\"> 2.  Adjusting the number of bins in a histogram </span>\n",
    "  -  Default of matplotlib is 10 bins \n",
    "  -  The \"square root rule\" is a commonly-used rule of thumb for choosing number of bins: choose the number of bins to be the square root of the number of samples. \n",
    "  - To specify the number of bins we can use the bins keyword argument of plt.hist().\n"
   ]
  },
  {
   "cell_type": "code",
   "execution_count": 8,
   "metadata": {
    "scrolled": false
   },
   "outputs": [
    {
     "data": {
      "image/png": "[encoded data removed]",
      "text/plain": [
       "<Figure size 432x288 with 1 Axes>"
      ]
     },
     "metadata": {},
     "output_type": "display_data"
    }
   ],
   "source": [
    "# Compute number of data points: n_data\n",
    "n_data = len(versicolor.petal_length)\n",
    "\n",
    "# Number of bins is the square root of number of data points: n_bins\n",
    "n_bins = np.sqrt(n_data)\n",
    "\n",
    "# Convert number of bins to integer: n_bins\n",
    "n_bins = int(n_bins)\n",
    "\n",
    "# Plot the histogram\n",
    "_ = plt.hist(x= \"petal_length\", bins = n_bins, data = versicolor)\n",
    "\n",
    "# Label axes\n",
    "_ = plt.xlabel('petal length (cm)')\n",
    "_ = plt.ylabel('count')"
   ]
  },
  {
   "cell_type": "markdown",
   "metadata": {},
   "source": [
    "<span style = \"color:red\"> <b> Binning Bias </b> </span>  \n",
    "\n",
    "- One **disadvantage** of histogram is the same data may be interpreted differently depending on choice of bins. To tackle that we can use the swarm plot. It repsents all the data points without a binning bias. \n",
    "\n",
    "<span style = \"color:red\"> <b> Bee swarm plot </b> </span> \n",
    "- Prerequisites for **bee swarm plot** using seaborn: The data be repsented as a pandas dataframe where each column is a feature and each row represents an observation.\n"
   ]
  },
  {
   "cell_type": "code",
   "execution_count": 9,
   "metadata": {},
   "outputs": [
    {
     "data": {
      "text/plain": [
       "Index(['sepal_length', 'sepal_width', 'petal_length', 'petal_width',\n",
       "       'species'],\n",
       "      dtype='object')"
      ]
     },
     "execution_count": 9,
     "metadata": {},
     "output_type": "execute_result"
    }
   ],
   "source": [
    "# Bee swarm plot \n",
    "# name of the columns\n",
    "iris.columns\n"
   ]
  },
  {
   "cell_type": "code",
   "execution_count": 10,
   "metadata": {},
   "outputs": [
    {
     "data": {
      "image/png": "[encoded data removed]",
      "text/plain": [
       "<Figure size 432x288 with 1 Axes>"
      ]
     },
     "metadata": {},
     "output_type": "display_data"
    }
   ],
   "source": [
    "# Create bee swarm plot with Seaborn's default settings\n",
    "_ = sns.swarmplot(x = 'species', y = 'petal_length', data = iris)\n",
    "# Label the axes\n",
    "_ = plt.xlabel('Species')\n",
    "_ = plt.ylabel('Petal length (cm)')\n"
   ]
  },
  {
   "cell_type": "markdown",
   "metadata": {},
   "source": [
    "We can conclude from the above plot that the petals of _I.virginica_ are tend to be longest and of _I.setosa_ tend to be shortest of the three species.  Notice that we said \"tend to be.\" Some individual I. virginica flowers may be shorter than individual I. versicolor flowers. It is also possible that an individual I. setosa flower may have longer petals than in individual I. versicolor flower, though this is highly unlikely, and was not observed by Anderson.\n",
    "\n",
    "Problem with Bee swarm plot - it isnt very helpful for a large dataset as we will get edges with overlapping data points, which is necessacery in order to fit all points onto the plot. \n",
    "\n",
    "### <span style =\"color:red\"> ECDF plot</span>\n",
    "\n",
    "Alternatively, we can compute **Empirical Cumulative Distribution Function(ECDF)**. It shows all the data and gives the complete picture of how the data are distributed.\n",
    "\n",
    "In an ECDF plot,\n",
    "- x-value is the quantity that we are measuring.\n",
    "- y-value is the fraction of data points that have a value smaller than the corresponding x-value. \n",
    "\n",
    "To plot an ECDF \n",
    "- x- value - we sort the data.\n",
    "- y-value - evenly spaced data points with a maximum of 1 genrated by np.arange function and divided by total number of data points.\n",
    "\n"
   ]
  },
  {
   "cell_type": "code",
   "execution_count": 11,
   "metadata": {},
   "outputs": [],
   "source": [
    "# ECDF function\n",
    "def ecdf(data):\n",
    "    \"\"\"Compute ECDF for a one-dimensional array of measurements.\"\"\"\n",
    "    # Number of data points: n\n",
    "    n = len(data)\n",
    "\n",
    "    # x-data for the ECDF: The x-values are the sorted data stored in x\n",
    "    x = np.sort(data)\n",
    "\n",
    "    # y-data for the ECDF: The y data of the ECDF go from 1/n to 1 in equally spaced incrementsstored as y \n",
    "    #The end value in np.arange() is not inclusive. \n",
    "    #Therefore, np.arange() will need to go from 1 to n+1\n",
    "    \n",
    "    y = np.arange(1, n+1) / n\n",
    "    return x, y"
   ]
  },
  {
   "cell_type": "code",
   "execution_count": 12,
   "metadata": {},
   "outputs": [
    {
     "data": {
      "image/png": "[encoded data removed]",
      "text/plain": [
       "<Figure size 432x288 with 1 Axes>"
      ]
     },
     "metadata": {},
     "output_type": "display_data"
    }
   ],
   "source": [
    "# Plotting the ECDF for versicolor\n",
    "\n",
    "# Compute ECDF for versicolor data: x_vers, y_vers\n",
    "x_vers, y_vers = ecdf(versicolor.petal_length)\n",
    "\n",
    "# Generate plot\n",
    "plt.plot(x_vers,y_vers, marker =\".\", linestyle = 'none')\n",
    "\n",
    "# Label the axes\n",
    "\n",
    "plt.xlabel(\"Petal length (cm)\")\n",
    "plt.ylabel(\"ECDF\")\n",
    "plt.title(\"ECDF plot for Versicolor petal length\")\n",
    "\n",
    "# Display the plot\n",
    "plt.show()"
   ]
  },
  {
   "cell_type": "markdown",
   "metadata": {},
   "source": [
    "Conclusion: Here we can see, 20% of _I.versicolor_ flowers have petals of less than 4 cm while 75% have petals smaller than or equal to 4.5 cm. "
   ]
  },
  {
   "cell_type": "code",
   "execution_count": 13,
   "metadata": {},
   "outputs": [
    {
     "data": {
      "image/png": "[encoded data removed]",
      "text/plain": [
       "<Figure size 432x288 with 1 Axes>"
      ]
     },
     "metadata": {},
     "output_type": "display_data"
    }
   ],
   "source": [
    "# Comparison of ECDFs \n",
    "# ECDFs also allow you to compare two or more distributions (though plots get cluttered if you have too many). \n",
    "# Here,we plot ECDFs for the petal lengths of all three iris species.\n",
    "\n",
    "# Compute ECDFs\n",
    "x_set, y_set = ecdf(iris[iris['species']=='setosa'].petal_length)\n",
    "x_vers, y_vers = ecdf(versicolor.petal_length)\n",
    "x_virg, y_virg = ecdf(iris[iris['species']=='virginica'].petal_length)\n",
    "\n",
    "\n",
    "\n",
    "# Plot all ECDFs on the same plot\n",
    "\n",
    "_ = plt.plot(x_set, y_set, marker =\".\", linestyle=\"none\")\n",
    "_ = plt.plot(x_vers, y_vers, marker =\".\", linestyle=\"none\")\n",
    "_ = plt.plot(x_virg, y_virg, marker =\".\", linestyle=\"none\")\n",
    "\n",
    "# Annotate the plot\n",
    "plt.legend(('setosa', 'versicolor', 'virginica'), loc='lower right')\n",
    "_ = plt.xlabel('petal length (cm)')\n",
    "_ = plt.ylabel('ECDF')\n"
   ]
  },
  {
   "cell_type": "markdown",
   "metadata": {},
   "source": [
    "The ECDFs expose clear differences among the species. Setosa is much shorter, also with less absolute variability in petal length than versicolor and virginica."
   ]
  },
  {
   "cell_type": "markdown",
   "metadata": {},
   "source": [
    "### Quantitative EDA"
   ]
  },
  {
   "cell_type": "markdown",
   "metadata": {},
   "source": [
    "<span style = \"color:red\"> <b>Summary statistics </b></span> \n",
    "1. <b> Sample mean </b> : Sum of all the data divided by the number n of data points \n",
    "$$ \\bar{x} = \\frac{1}{n} \\sum_{i=1}^n x^i $$\n",
    "\n",
    "  - Problem : heavily influenced by outliers . Instead use median.\n",
    "2. <b> Sample median </b>: Calculated by sorting the data and choosing the datum in the middle. \n",
    "  - As it is derrived from the rank of the data and not from the value of the data, it is immune to extreme data points. \n",
    "  - The median is the 50th percentile of the data which means 50% of the data is below that value. \n",
    "  \n",
    "3. <b> Percentiles </b>: We can get the 25th and 75th percetile which represents 25% or 75 % data are below that point respectively. \n",
    "  - A box plot represents the salient features of dataset usng percentiles. Invented by Jhon Tuckey. \n",
    "  - Middle line - 50th percentile, edges show 25th and 75th percentile.\n",
    "  - Interquartile range (IQR) - The total height of the box whcih contains the middle 50% of the data\n",
    "  - The whiskers extend to the distance of 1.5 times IQR or to the extent of data whichever is more extreme. \n",
    "  - outliers - all data points outside of whiskers are plotted as indivival points. A common criteria is if a data point is 2 * IQR away from the median, it is considered as an outlier. \n",
    "  > Not all outliers are erroneous data points and depends on the context.\n",
    "  \n",
    "  ![alt text](boxplot.png \"Boxplot\")\n",
    "  [Image source](https://www.google.com/url?sa=i&url=https%3A%2F%2Ftowardsdatascience.com%2Funderstanding-boxplots-5e2df7bcbd51&psig=AOvVaw1A1J5SjtUN18pfZPMRVb9z&ust=1599095150188000&source=images&cd=vfe&ved=2ahUKEwjO9LDko8nrAhVWg3IEHa0mCfwQjhx6BAgAEBI)\n",
    "  \n",
    "  - Advantage : Good representaion of large dataset with cluttered bee swarm plots.\n"
   ]
  },
  {
   "cell_type": "code",
   "execution_count": 14,
   "metadata": {},
   "outputs": [
    {
     "name": "stdout",
     "output_type": "stream",
     "text": [
      "I. versicolor mean petal length : 4.26 cm\n"
     ]
    }
   ],
   "source": [
    "# Compute the mean: mean_length_vers\n",
    "\n",
    "mean_length_vers = np.mean(versicolor.petal_length)\n",
    "\n",
    "# Print the result with some nice formatting\n",
    "print('I. versicolor mean petal length :', mean_length_vers, 'cm')"
   ]
  },
  {
   "cell_type": "code",
   "execution_count": 15,
   "metadata": {},
   "outputs": [
    {
     "name": "stdout",
     "output_type": "stream",
     "text": [
      "The percentile of petal lengths of I.versicolor flower are as follows: 25th = 4.0 cm, 50th or median =  4.35 cm and 75th percentile = 4.6 cm. \n"
     ]
    }
   ],
   "source": [
    "# Computing percentiles\n",
    "\n",
    "# Specify array of percentiles: percentiles\n",
    "percentiles = np.array([25,50,75])\n",
    "\n",
    "# Compute percentiles: ptiles_vers\n",
    "ptiles_vers = np.percentile(a = versicolor.petal_length, q= percentiles)\n",
    "\n",
    "# print the result\n",
    "print(f\"The percentile of petal lengths of I.versicolor flower are as follows: 25th = {ptiles_vers[0]} cm, 50th or median =  {ptiles_vers[1]} cm and 75th percentile = {ptiles_vers[2]} cm. \")"
   ]
  },
  {
   "cell_type": "code",
   "execution_count": 16,
   "metadata": {},
   "outputs": [
    {
     "data": {
      "image/png": "[encoded data removed]",
      "text/plain": [
       "<Figure size 432x288 with 1 Axes>"
      ]
     },
     "metadata": {},
     "output_type": "display_data"
    }
   ],
   "source": [
    "# Comparing percentiles to ECDF : To see how the percentiles relate to the ECDF,\n",
    "# we will plot the percentiles of Iris versicolor petal lengths calculated above on the previously generated ECDF plot.\n",
    "# To ensure the Y-axis of the ECDF plot remains between 0 and 1, we will rescale the percentiles array accordingly dividing it by 100.\n",
    "\n",
    "# Plot the ECDF\n",
    "_ = plt.plot(x_vers, y_vers, '.')\n",
    "_ = plt.xlabel('petal length (cm)')\n",
    "_ = plt.ylabel('ECDF')\n",
    "\n",
    "# Overlay percentiles as red diamonds.\n",
    "_ = plt.plot(ptiles_vers, percentiles/100, marker='D', color='red',\n",
    "         linestyle='none')\n",
    "\n"
   ]
  },
  {
   "cell_type": "code",
   "execution_count": 17,
   "metadata": {},
   "outputs": [
    {
     "data": {
      "image/png": "[encoded data removed]",
      "text/plain": [
       "<Figure size 432x288 with 1 Axes>"
      ]
     },
     "metadata": {},
     "output_type": "display_data"
    }
   ],
   "source": [
    "# Box-and-whisker plot : Although this is a small dataset and swarmplot is fine. \n",
    "\n",
    "# Create box plot with Seaborn's default settings\n",
    "_ =sns.boxplot(x = 'species', y = 'petal_length',data = iris)\n",
    "\n",
    "# Label the axes\n",
    "_= plt.xlabel(\"Species\")\n",
    "_= plt.ylabel(\"Petal length(cm)\")\n"
   ]
  },
  {
   "cell_type": "markdown",
   "metadata": {},
   "source": [
    "<span style = \"color:red\"> <b>Summary statistics </b></span> \n",
    "4. <b> Variance </b> : The mean squared distance of the data from their mean.\n",
    "\n",
    "$$ \\sigma^2=\\frac {\\sum{{x_i - \\bar{x}}^2}} {n-1} $$\n",
    "\n",
    "$ \\sigma^2 $ = sample variance  \n",
    "$ x_i $ = the value of one observation  \n",
    "$ \\bar{x}$ = the mean value of all observations  \n",
    "$ n $ = total number of observations\n",
    "\n",
    "  - Informally, a measure of the spread of data.\n",
    "  - As calculation of variance involves sqaured quantities, it doesn't have the same units of what we have measured. \n",
    "\n",
    "5.<b> Standard deviation </b>: Square root of variance \n",
    "\n",
    "$$ \\sigma =\\sqrt{\\frac {\\sum{{x_i - \\bar{x}}^2}} {n-1}} $$\n",
    "\n",
    "$ \\sigma $ = sample standard deviation\n",
    "  - Good representation of spread of data\n",
    "\n",
    "\n",
    "\n",
    "  \n"
   ]
  },
  {
   "cell_type": "code",
   "execution_count": 18,
   "metadata": {},
   "outputs": [
    {
     "name": "stdout",
     "output_type": "stream",
     "text": [
      "Variance calculated explicitily =  0.2164\n",
      "Variance calculated using NumPy = 0.2164\n"
     ]
    }
   ],
   "source": [
    "# Computing the variance : Compute explicitly and then by using numpy.var() function\n",
    "\n",
    "# Array of differences to mean: differences\n",
    "differences = versicolor.petal_length - np.mean(versicolor.petal_length)\n",
    "\n",
    "# Square the differences: diff_sq\n",
    "diff_sq = differences **2\n",
    "\n",
    "# Compute the mean square difference: variance_explicit\n",
    "\n",
    "variance_explicit = np.mean(diff_sq) \n",
    "\n",
    "# Compute the variance using NumPy: variance_np\n",
    "variance_np = np.var(versicolor.petal_length)\n",
    "\n",
    "# Print the results\n",
    "print(f\"Variance calculated explicitily = {variance_explicit: 0.4f}\\nVariance calculated using NumPy ={variance_np: 0.4f}\")\n",
    "\n"
   ]
  },
  {
   "cell_type": "code",
   "execution_count": 19,
   "metadata": {},
   "outputs": [
    {
     "name": "stdout",
     "output_type": "stream",
     "text": [
      "Std dev from variance =  0.4652\n",
      "Std dev using numpy =  0.4652\n"
     ]
    }
   ],
   "source": [
    "# Computing the The standard deviation : From the variance and using the numpy.std() function\n",
    "# Compute the variance: variance\n",
    "variance = np.var(versicolor.petal_length)\n",
    "\n",
    "# Print the square root of the variance\n",
    "print(f\"Std dev from variance = {np.sqrt(variance): 0.4f}\")\n",
    "\n",
    "# Print the standard deviation\n",
    "print(f\"Std dev using numpy = {np.std(versicolor.petal_length): 0.4f}\")\n",
    "\n"
   ]
  },
  {
   "cell_type": "markdown",
   "metadata": {},
   "source": [
    "<span style= \"color:red\"><b> Covariance and the Pearson correlation coefficient </b></span>\n",
    "\n",
    "5. <b> Covariance</b> :A measure of how two quantities vary together.\n",
    "$$ covariance = \\frac{1}{n}\\sum_{i=1}^{n}(x_i - \\bar{x})(y_i - \\bar{y})$$\n",
    "  - if x and y both tend to be above or below ther respective means together, then covariance is positive so they are positively correlated. When x is high, so is y and vice versa. \n",
    "  - if x is high when y is low, the covariance is negative, and the data are negatively or anticorrelated. \n",
    "  - having a large variance does not mean the covariance is large.\n",
    "  - To determine a generally applicable measure of how to variables depend on each other, we need it to be dimensionsless (without any unit). Covariance is not unitless/ dimensionless. \n",
    "  \n",
    "6. <b> Pearson Correlation coefficient </b>: Also called the Pearson r is covariance divided by standard deviations of the x and y variables.\n",
    "$$ \\rho = Pearson Correlation = \\frac {covariance}{(\\sigma_x)(\\sigma_y)}  $$  \n",
    "  - Denotes the variability due to codependence (the covariance) to the variability inherent to each variable independently (their standard deviations).\n",
    "  - it is dimensionless and range from -1 (complete negative / anticorrelation) to 1 (complete positive correlation).\n",
    "  - 0 shows no correlation at all. \n",
    "  - A good metric for correlation between two variables.\n",
    "  - Easier to interpret than covariance. \n",
    " \n",
    " \n",
    "<span style= \"color:red\"><b> Scatter plot</b></span> \n",
    "\n",
    "  - This supplements the quantitaive EDA showing the correlation between two variables. \n",
    "  - to compare two properties of a single species"
   ]
  },
  {
   "cell_type": "code",
   "execution_count": 20,
   "metadata": {},
   "outputs": [
    {
     "data": {
      "image/png": "[encoded data removed]",
      "text/plain": [
       "<Figure size 432x288 with 1 Axes>"
      ]
     },
     "metadata": {},
     "output_type": "display_data"
    }
   ],
   "source": [
    "# Plot a scatter plot of the petal length and width measurements of I. versicolor flowers. \n",
    "# If the flower scales (that is, it preserves its proportion as it grows), we would expect the length and width to be correlated.\n",
    "\n",
    "_ = sns.scatterplot(versicolor.petal_length, versicolor.petal_width)\n",
    "\n",
    "# Label the axes\n",
    "_ = plt.xlabel('petal length (cm)')\n",
    "_ = plt.ylabel('petal width (cm)')"
   ]
  },
  {
   "cell_type": "markdown",
   "metadata": {},
   "source": [
    "> Indeed, we see some correlation. Longer petals also tend to be wider."
   ]
  },
  {
   "cell_type": "code",
   "execution_count": 21,
   "metadata": {},
   "outputs": [
    {
     "name": "stdout",
     "output_type": "stream",
     "text": [
      "[[0.22081633 0.07310204]\n",
      " [0.07310204 0.03910612]]\n",
      "0.07310204081632653\n"
     ]
    }
   ],
   "source": [
    "# Computing the covariance\n",
    "# Compute the covariance matrix: covariance_matrix\n",
    "covariance_matrix = np.cov(versicolor.petal_length,versicolor.petal_width)\n",
    "\n",
    "# Print covariance matrix\n",
    "print(covariance_matrix)\n",
    "\n",
    "# Extract covariance of length and width of petals: petal_cov\n",
    "petal_cov = covariance_matrix[0,1]\n",
    "\n",
    "# Print the length/width covariance\n",
    "print( petal_cov)"
   ]
  },
  {
   "cell_type": "markdown",
   "metadata": {},
   "source": [
    "> Note that by symmetry, entry [1,0] is the same as entry [0,1]."
   ]
  },
  {
   "cell_type": "code",
   "execution_count": 22,
   "metadata": {},
   "outputs": [
    {
     "name": "stdout",
     "output_type": "stream",
     "text": [
      "0.7866680885228169\n"
     ]
    }
   ],
   "source": [
    "#Computing the Pearson correlation coefficient\n",
    "\n",
    "def pearson_r(x, y):\n",
    "    \"\"\"Compute Pearson correlation coefficient between two arrays.\"\"\"\n",
    "    # Compute correlation matrix: corr_mat\n",
    "    corr_mat = np.corrcoef(x,y)\n",
    "\n",
    "    # Return entry [0,1]\n",
    "    return corr_mat[0,1]\n",
    "\n",
    "# Compute Pearson correlation coefficient for I. versicolor: r\n",
    "r = pearson_r(versicolor.petal_length, versicolor.petal_width)\n",
    "\n",
    "# Print the result\n",
    "print(r)"
   ]
  }
 ],
 "metadata": {
  "kernelspec": {
   "display_name": "Python 3",
   "language": "python",
   "name": "python3"
  },
  "language_info": {
   "codemirror_mode": {
    "name": "ipython",
    "version": 3
   },
   "file_extension": ".py",
   "mimetype": "text/x-python",
   "name": "python",
   "nbconvert_exporter": "python",
   "pygments_lexer": "ipython3",
   "version": "3.7.4"
  }
 },
 "nbformat": 4,
 "nbformat_minor": 2
}
